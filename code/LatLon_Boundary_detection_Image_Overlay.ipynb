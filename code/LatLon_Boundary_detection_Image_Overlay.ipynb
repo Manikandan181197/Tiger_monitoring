{
  "nbformat": 4,
  "nbformat_minor": 0,
  "metadata": {
    "colab": {
      "provenance": []
    },
    "kernelspec": {
      "name": "python3",
      "display_name": "Python 3"
    },
    "language_info": {
      "name": "python"
    }
  },
  "cells": [
    {
      "cell_type": "code",
      "source": [
        "pip install shapely geopy pandas openpyxl"
      ],
      "metadata": {
        "colab": {
          "base_uri": "https://localhost:8080/"
        },
        "id": "13CfNTKfAxNa",
        "outputId": "a61f3603-0802-47e6-95f0-04a7004d14c6"
      },
      "execution_count": 7,
      "outputs": [
        {
          "output_type": "stream",
          "name": "stdout",
          "text": [
            "Requirement already satisfied: shapely in /usr/local/lib/python3.10/dist-packages (2.0.4)\n",
            "Requirement already satisfied: geopy in /usr/local/lib/python3.10/dist-packages (2.3.0)\n",
            "Requirement already satisfied: pandas in /usr/local/lib/python3.10/dist-packages (2.0.3)\n",
            "Requirement already satisfied: openpyxl in /usr/local/lib/python3.10/dist-packages (3.1.5)\n",
            "Requirement already satisfied: numpy<3,>=1.14 in /usr/local/lib/python3.10/dist-packages (from shapely) (1.25.2)\n",
            "Requirement already satisfied: geographiclib<3,>=1.52 in /usr/local/lib/python3.10/dist-packages (from geopy) (2.0)\n",
            "Requirement already satisfied: python-dateutil>=2.8.2 in /usr/local/lib/python3.10/dist-packages (from pandas) (2.8.2)\n",
            "Requirement already satisfied: pytz>=2020.1 in /usr/local/lib/python3.10/dist-packages (from pandas) (2023.4)\n",
            "Requirement already satisfied: tzdata>=2022.1 in /usr/local/lib/python3.10/dist-packages (from pandas) (2024.1)\n",
            "Requirement already satisfied: et-xmlfile in /usr/local/lib/python3.10/dist-packages (from openpyxl) (1.1.0)\n",
            "Requirement already satisfied: six>=1.5 in /usr/local/lib/python3.10/dist-packages (from python-dateutil>=2.8.2->pandas) (1.16.0)\n"
          ]
        }
      ]
    },
    {
      "cell_type": "code",
      "source": [
        "pip install opencv-python"
      ],
      "metadata": {
        "colab": {
          "base_uri": "https://localhost:8080/"
        },
        "id": "AJHicKwY1DwG",
        "outputId": "abf57787-7947-4478-8704-5e95a2e8e685"
      },
      "execution_count": 8,
      "outputs": [
        {
          "output_type": "stream",
          "name": "stdout",
          "text": [
            "Requirement already satisfied: opencv-python in /usr/local/lib/python3.10/dist-packages (4.8.0.76)\n",
            "Requirement already satisfied: numpy>=1.21.2 in /usr/local/lib/python3.10/dist-packages (from opencv-python) (1.25.2)\n"
          ]
        }
      ]
    },
    {
      "cell_type": "markdown",
      "source": [
        "Drawing boundaries using contour detection"
      ],
      "metadata": {
        "id": "nuUnPbYzjcz9"
      }
    },
    {
      "cell_type": "code",
      "source": [
        "import cv2\n",
        "import numpy as np\n",
        "\n",
        "# Load the image\n",
        "image_path = '/content/forest.jpg'\n",
        "image = cv2.imread(image_path)\n",
        "\n",
        "# Convert the image to HSV color space\n",
        "hsv_image = cv2.cvtColor(image, cv2.COLOR_BGR2HSV)\n",
        "\n",
        "# Define a list of color ranges in HSV for segmentation\n",
        "color_ranges = [\n",
        "    ((35, 50, 50), (85, 255, 255)),  # Green\n",
        "    ((25, 50, 50), (35, 255, 255)),  # Yellow\n",
        "    ((0, 50, 50), (10, 255, 255)),   # Red\n",
        "    ((130, 50, 50), (170, 255, 255)) # Purple\n",
        "]\n",
        "\n",
        "# Create an empty image to draw contours\n",
        "contour_image = np.zeros_like(image)\n",
        "\n",
        "for lower, upper in color_ranges:\n",
        "    # Create masks for each color range\n",
        "    mask = cv2.inRange(hsv_image, np.array(lower), np.array(upper))\n",
        "\n",
        "    # Find contours\n",
        "    contours, _ = cv2.findContours(mask, cv2.RETR_EXTERNAL, cv2.CHAIN_APPROX_SIMPLE)\n",
        "\n",
        "    # Draw contours on the empty image\n",
        "    cv2.drawContours(contour_image, contours, -1, (255, 255, 255), 1)\n",
        "\n",
        "# Invert the colors of the contour image\n",
        "contour_image = cv2.bitwise_not(contour_image)\n",
        "\n",
        "# Save or display the result\n",
        "output_path = 'inverted_contour_image.png'\n",
        "cv2.imwrite(output_path, contour_image)\n",
        "# cv2.imshow('Inverted Contour Image', contour_image)\n",
        "cv2.waitKey(0)\n",
        "cv2.destroyAllWindows()"
      ],
      "metadata": {
        "id": "ME_Dkk9e6fe4"
      },
      "execution_count": 3,
      "outputs": []
    },
    {
      "cell_type": "code",
      "source": [
        "import cv2\n",
        "import numpy as np\n",
        "\n",
        "# Load the image\n",
        "image_path = '/content/boundary.jpg'\n",
        "image = cv2.imread(image_path)\n",
        "\n",
        "# Convert the image to HSV color space\n",
        "hsv_image = cv2.cvtColor(image, cv2.COLOR_BGR2HSV)\n",
        "\n",
        "# Define color ranges for blue and red in HSV\n",
        "blue_lower = np.array([100, 150, 0])\n",
        "blue_upper = np.array([140, 255, 255])\n",
        "red_lower1 = np.array([0, 70, 50])\n",
        "red_upper1 = np.array([10, 255, 255])\n",
        "red_lower2 = np.array([170, 70, 50])\n",
        "red_upper2 = np.array([180, 255, 255])\n",
        "\n",
        "# Create masks for blue and red colors\n",
        "blue_mask = cv2.inRange(hsv_image, blue_lower, blue_upper)\n",
        "red_mask1 = cv2.inRange(hsv_image, red_lower1, red_upper1)\n",
        "red_mask2 = cv2.inRange(hsv_image, red_lower2, red_upper2)\n",
        "red_mask = cv2.bitwise_or(red_mask1, red_mask2)\n",
        "\n",
        "# Combine blue and red masks\n",
        "combined_mask = cv2.bitwise_or(blue_mask, red_mask)\n",
        "\n",
        "# Create an output image with a white background\n",
        "output_image = np.ones_like(image) * 255\n",
        "\n",
        "# Copy the blue border and red dots onto the white background\n",
        "output_image[combined_mask > 0] = image[combined_mask > 0]\n",
        "\n",
        "# Save or display the result\n",
        "output_path = 'output_image.png'\n",
        "cv2.imwrite(output_path, output_image)\n",
        "# cv2.imshow('Output Image', output_image)\n",
        "cv2.waitKey(0)\n",
        "cv2.destroyAllWindows()"
      ],
      "metadata": {
        "id": "y5wsB7u07Cul"
      },
      "execution_count": 4,
      "outputs": []
    },
    {
      "cell_type": "markdown",
      "source": [
        "Image overlay"
      ],
      "metadata": {
        "id": "75I_55IGkHaL"
      }
    },
    {
      "cell_type": "code",
      "source": [
        "import cv2\n",
        "import numpy as np\n",
        "\n",
        "# Load the images\n",
        "img1_path = '/content/output_image.png'  # Path to the base image\n",
        "img2_path = '/content/inverted_contour_image.png'  # Path to the border image\n",
        "\n",
        "img1 = cv2.imread(img1_path)\n",
        "img2 = cv2.imread(img2_path)\n",
        "\n",
        "# Ensure img2 is the same size as img1, resize if necessary\n",
        "img2_resized = cv2.resize(img2, (img1.shape[1], img1.shape[0]))\n",
        "\n",
        "# Convert img2 to grayscale\n",
        "gray_img2 = cv2.cvtColor(img2_resized, cv2.COLOR_BGR2GRAY)\n",
        "\n",
        "# Create a mask from img2 (black lines will be 255, everything else will be 0)\n",
        "_, mask = cv2.threshold(gray_img2, 1, 255, cv2.THRESH_BINARY_INV)\n",
        "\n",
        "# Invert the mask to get black lines as 255\n",
        "mask_inv = cv2.bitwise_not(mask)\n",
        "\n",
        "# Convert the mask to 3 channels\n",
        "mask_inv_colored = cv2.cvtColor(mask_inv, cv2.COLOR_GRAY2BGR)\n",
        "\n",
        "# Overlay the mask onto img1\n",
        "result = cv2.bitwise_and(img1, mask_inv_colored)\n",
        "result += cv2.bitwise_and(img2_resized, cv2.bitwise_not(mask_inv_colored))\n",
        "\n",
        "# Save or display the result\n",
        "output_path = 'overlay_image.png'\n",
        "cv2.imwrite(output_path, result)\n",
        "# cv2.imshow('Overlay Image', result)\n",
        "cv2.waitKey(0)\n",
        "cv2.destroyAllWindows()"
      ],
      "metadata": {
        "id": "rL0nHCYg9Vyi"
      },
      "execution_count": 6,
      "outputs": []
    },
    {
      "cell_type": "markdown",
      "source": [
        "Plotting the coordinates to get the area of interest"
      ],
      "metadata": {
        "id": "UzFTnr9OkOYQ"
      }
    },
    {
      "cell_type": "code",
      "source": [
        "import pandas as pd\n",
        "\n",
        "# List of coordinates\n",
        "coordinates = [\n",
        "    (24.613149333805474, 79.94064280142537), (24.616585992854144, 79.94991726200432),\n",
        "    (24.612216089309918, 79.94133064867492), (24.607228943711352, 79.9334415497031),\n",
        "    (24.60131139733483, 79.92761672921684), (24.591655781843432, 79.92042195805622),\n",
        "    (24.587299304823453, 79.92178768981881), (24.58576436277328, 79.92791946493091),\n",
        "    (24.586381164759292, 79.94022706390288), (24.588248167477843, 79.94807089028068),\n",
        "    (24.587628286896656, 79.94738280901824), (24.588864604296962, 79.95662606790627),\n",
        "    (24.59227905016377, 79.96382008850203), (24.59600792543035, 79.9669020018246),\n",
        "    (24.59693461968274, 79.98161047168524), (24.601285711509487, 79.99261919911497),\n",
        "    (24.600036164603583, 79.99666187086699), (24.602206137061415, 80.00795204970156),\n",
        "    (24.60220551851527, 80.00897837892957), (24.604378142850607, 80.01513798953346),\n",
        "    (24.603130357957237, 80.02129571553036), (24.60344082430387, 80.02198023870692),\n",
        "    (24.60748476357962, 80.01924582085627), (24.610592334219916, 80.02198585337489),\n",
        "    (24.614944579481193, 80.02370190445916), (24.61991956507346, 80.02439225088594),\n",
        "    (24.626172869319458, 80.02109251986653), (24.63647935781835, 80.00952122340946),\n",
        "    (24.63773249331087, 80.00542030955219), (24.643322656810316, 80.0091641734615),\n",
        "    (24.64611463012587, 80.01188943429752), (24.65108746230968, 80.00810509530949),\n",
        "    (24.652034788862203, 80.00229881543169), (24.649268878188455, 79.9917222293751),\n",
        "    (24.64493823977292, 79.98559124693645), (24.641527124342648, 79.98184114549959),\n",
        "    (24.639403414224603, 79.97196610986329), (24.634432860124583, 79.95652951466646),\n",
        "    (24.629970355168926, 79.95127085050233), (24.623754749787306, 79.94957512077103),\n",
        "    (24.616586124513557, 79.95026054402153)\n",
        "]\n",
        "\n",
        "# Create DataFrame\n",
        "df = pd.DataFrame(coordinates, columns=['Latitude', 'Longitude'])\n",
        "\n",
        "# Display DataFrame\n",
        "print(df)\n"
      ],
      "metadata": {
        "colab": {
          "base_uri": "https://localhost:8080/"
        },
        "id": "n7ex2cdwkblr",
        "outputId": "e54b36d1-0667-4898-809a-a65d1145cb32"
      },
      "execution_count": null,
      "outputs": [
        {
          "output_type": "stream",
          "name": "stdout",
          "text": [
            "     Latitude  Longitude\n",
            "0   24.613149  79.940643\n",
            "1   24.616586  79.949917\n",
            "2   24.612216  79.941331\n",
            "3   24.607229  79.933442\n",
            "4   24.601311  79.927617\n",
            "5   24.591656  79.920422\n",
            "6   24.587299  79.921788\n",
            "7   24.585764  79.927919\n",
            "8   24.586381  79.940227\n",
            "9   24.588248  79.948071\n",
            "10  24.587628  79.947383\n",
            "11  24.588865  79.956626\n",
            "12  24.592279  79.963820\n",
            "13  24.596008  79.966902\n",
            "14  24.596935  79.981610\n",
            "15  24.601286  79.992619\n",
            "16  24.600036  79.996662\n",
            "17  24.602206  80.007952\n",
            "18  24.602206  80.008978\n",
            "19  24.604378  80.015138\n",
            "20  24.603130  80.021296\n",
            "21  24.603441  80.021980\n",
            "22  24.607485  80.019246\n",
            "23  24.610592  80.021986\n",
            "24  24.614945  80.023702\n",
            "25  24.619920  80.024392\n",
            "26  24.626173  80.021093\n",
            "27  24.636479  80.009521\n",
            "28  24.637732  80.005420\n",
            "29  24.643323  80.009164\n",
            "30  24.646115  80.011889\n",
            "31  24.651087  80.008105\n",
            "32  24.652035  80.002299\n",
            "33  24.649269  79.991722\n",
            "34  24.644938  79.985591\n",
            "35  24.641527  79.981841\n",
            "36  24.639403  79.971966\n",
            "37  24.634433  79.956530\n",
            "38  24.629970  79.951271\n",
            "39  24.623755  79.949575\n",
            "40  24.616586  79.950261\n"
          ]
        }
      ]
    },
    {
      "cell_type": "code",
      "source": [
        "len(df)"
      ],
      "metadata": {
        "colab": {
          "base_uri": "https://localhost:8080/"
        },
        "id": "JmDn834BkfSi",
        "outputId": "615220b7-8b43-4e8f-a0c6-679ae3473005"
      },
      "execution_count": null,
      "outputs": [
        {
          "output_type": "execute_result",
          "data": {
            "text/plain": [
              "41"
            ]
          },
          "metadata": {},
          "execution_count": 2
        }
      ]
    },
    {
      "cell_type": "code",
      "source": [
        "import folium\n",
        "import pandas as pd\n",
        "from shapely.geometry import Point, Polygon\n",
        "from geopy.distance import geodesic"
      ],
      "metadata": {
        "id": "uQ0aTGuKAtlf"
      },
      "execution_count": null,
      "outputs": []
    },
    {
      "cell_type": "code",
      "execution_count": null,
      "metadata": {
        "id": "yIFgH72q1LtU"
      },
      "outputs": [],
      "source": [
        "# Define your bounding box as a list of (latitude, longitude) tuples\n",
        "bounding_box =[(24.613149333805474, 79.94064280142537),(24.616585992854144, 79.94991726200432),(24.612216089309918, 79.94133064867492),(24.607228943711352, 79.9334415497031)\n",
        ",(24.60131139733483, 79.92761672921684),(24.591655781843432, 79.92042195805622),(24.587299304823453, 79.92178768981881),(24.58576436277328, 79.92791946493091)\n",
        ",(24.586381164759292, 79.94022706390288),(24.588248167477843, 79.94807089028068),(24.587628286896656, 79.94738280901824),(24.588864604296962, 79.95662606790627)\n",
        ",(24.59227905016377, 79.96382008850203),(24.59600792543035, 79.9669020018246),(24.59693461968274, 79.98161047168524),(24.601285711509487, 79.99261919911497)\n",
        ",(24.600036164603583, 79.99666187086699),(24.602206137061415, 80.00795204970156),(24.60220551851527, 80.00897837892957),(24.604378142850607, 80.01513798953346)\n",
        ",(24.603130357957237, 80.02129571553036),(24.60344082430387, 80.02198023870692),(24.60748476357962, 80.01924582085627),(24.610592334219916, 80.02198585337489)\n",
        ",(24.614944579481193, 80.02370190445916),(24.61991956507346, 80.02439225088594),(24.626172869319458, 80.02109251986653),(24.63647935781835, 80.00952122340946)\n",
        ",(24.63773249331087, 80.00542030955219),(24.643322656810316, 80.0091641734615),(24.64611463012587, 80.01188943429752),(24.65108746230968, 80.00810509530949)\n",
        ",(24.652034788862203, 80.00229881543169),(24.649268878188455, 79.9917222293751),(24.64493823977292, 79.98559124693645),(24.641527124342648, 79.98184114549959)\n",
        ",(24.639403414224603, 79.97196610986329),(24.634432860124583, 79.95652951466646),(24.629970355168926, 79.95127085050233),(24.623754749787306, 79.94957512077103)\n",
        ",(24.616586124513557, 79.95026054402153)]"
      ]
    },
    {
      "cell_type": "code",
      "source": [
        "bounding_box = [\n",
        "    [24.431, 79.937], [24.437, 79.943], [24.442, 79.948], [24.447, 79.951], [24.452, 79.956],\n",
        "    [24.456, 79.961], [24.461, 79.964], [24.466, 79.968], [24.470, 79.972], [24.474, 79.976],\n",
        "    [24.479, 79.980], [24.484, 79.984], [24.488, 79.988], [24.492, 79.992], [24.496, 79.996],\n",
        "    [24.501, 80.000], [24.506, 80.004], [24.510, 80.008], [24.515, 80.012], [24.519, 80.016],\n",
        "    [24.523, 80.020], [24.527, 80.024], [24.532, 80.028], [24.536, 80.032], [24.540, 80.036],\n",
        "    [24.545, 80.040], [24.549, 80.044], [24.554, 80.048], [24.558, 80.052], [24.562, 80.056]\n",
        "]"
      ],
      "metadata": {
        "id": "jrsgQ0s0g79w"
      },
      "execution_count": null,
      "outputs": []
    },
    {
      "cell_type": "code",
      "source": [
        "# Create a polygon from the bounding box\n",
        "polygon = Polygon(bounding_box)\n",
        "\n",
        "# Function to generate points within the polygon\n",
        "def generate_points_within_polygon(polygon, distance_km):\n",
        "    min_x, min_y, max_x, max_y = polygon.bounds\n",
        "    points = []\n",
        "    lat = min_y\n",
        "    while lat < max_y:\n",
        "        lon = min_x\n",
        "        while lon < max_x:\n",
        "            point = Point(lon, lat)\n",
        "            if polygon.contains(point):\n",
        "                points.append((lat, lon))\n",
        "            # Move 5km in the longitude direction\n",
        "            lon = geodesic(kilometers=distance_km).destination((lat, lon), 90).longitude\n",
        "        # Move 5km in the latitude direction\n",
        "        lat = geodesic(kilometers=distance_km).destination((lat, min_x), 0).latitude\n",
        "    return points\n",
        "\n",
        "# Generate the points\n",
        "points = generate_points_within_polygon(polygon, 0.1)\n",
        "\n",
        "# Create a DataFrame\n",
        "df = pd.DataFrame(points, columns=['Longitude', 'Latitude'])"
      ],
      "metadata": {
        "id": "xNRYiBUWBSRh"
      },
      "execution_count": null,
      "outputs": []
    },
    {
      "cell_type": "code",
      "source": [
        "polygon"
      ],
      "metadata": {
        "colab": {
          "base_uri": "https://localhost:8080/",
          "height": 122
        },
        "id": "tH-K3NJ6hEix",
        "outputId": "e6c3c957-e5f4-4efc-ba65-8ea9b0988c3e"
      },
      "execution_count": null,
      "outputs": [
        {
          "output_type": "execute_result",
          "data": {
            "text/plain": [
              "<POLYGON ((24.431 79.937, 24.437 79.943, 24.442 79.948, 24.447 79.951, 24.45...>"
            ],
            "image/svg+xml": "<svg xmlns=\"http://www.w3.org/2000/svg\" xmlns:xlink=\"http://www.w3.org/1999/xlink\" width=\"100.0\" height=\"100.0\" viewBox=\"24.42576 79.93176 0.14148000000000138 0.12948000000000093\" preserveAspectRatio=\"xMinYMin meet\"><g transform=\"matrix(1,0,0,-1,0,159.993)\"><path fill-rule=\"evenodd\" fill=\"#ff3333\" stroke=\"#555555\" stroke-width=\"0.0028296000000000276\" opacity=\"0.6\" d=\"M 24.431,79.937 L 24.437,79.943 L 24.442,79.948 L 24.447,79.951 L 24.452,79.956 L 24.456,79.961 L 24.461,79.964 L 24.466,79.968 L 24.47,79.972 L 24.474,79.976 L 24.479,79.98 L 24.484,79.984 L 24.488,79.988 L 24.492,79.992 L 24.496,79.996 L 24.501,80.0 L 24.506,80.004 L 24.51,80.008 L 24.515,80.012 L 24.519,80.016 L 24.523,80.02 L 24.527,80.024 L 24.532,80.028 L 24.536,80.032 L 24.54,80.036 L 24.545,80.04 L 24.549,80.044 L 24.554,80.048 L 24.558,80.052 L 24.562,80.056 L 24.431,79.937 z\" /></g></svg>"
          },
          "metadata": {},
          "execution_count": 21
        }
      ]
    },
    {
      "cell_type": "code",
      "source": [
        "len(df)"
      ],
      "metadata": {
        "colab": {
          "base_uri": "https://localhost:8080/"
        },
        "id": "rulv_ghPB-yL",
        "outputId": "dd62f530-68c5-488c-cc81-d9dbd6ad55be"
      },
      "execution_count": null,
      "outputs": [
        {
          "output_type": "execute_result",
          "data": {
            "text/plain": [
              "14"
            ]
          },
          "metadata": {},
          "execution_count": 19
        }
      ]
    },
    {
      "cell_type": "code",
      "source": [
        "df=df[['Latitude','Longitude']]"
      ],
      "metadata": {
        "id": "UrkGSGrGCnul"
      },
      "execution_count": null,
      "outputs": []
    },
    {
      "cell_type": "code",
      "source": [
        "# Create a folium map centered around the bounding box\n",
        "center_lat = sum([point[0] for point in bounding_box]) / len(bounding_box)\n",
        "center_lon = sum([point[1] for point in bounding_box]) / len(bounding_box)\n",
        "m = folium.Map(location=[center_lat, center_lon], zoom_start=12)\n",
        "\n",
        "# Add the boundary to the map\n",
        "folium.PolyLine(bounding_box, color=\"blue\", weight=2.5, opacity=1).add_to(m)\n",
        "\n",
        "# Add the points to the map\n",
        "for lat, lon in df.itertuples(index=False):\n",
        "    folium.CircleMarker(\n",
        "        location=[lat, lon],\n",
        "        radius=1,\n",
        "        color='red',\n",
        "        fill=True,\n",
        "        fill_color='red'\n",
        "    ).add_to(m)\n",
        "\n",
        "# Save the map to an HTML file\n",
        "m.save('map.html')"
      ],
      "metadata": {
        "id": "jpfputT0d9Ru"
      },
      "execution_count": null,
      "outputs": []
    },
    {
      "cell_type": "code",
      "source": [
        "df#24.621936,80.021622"
      ],
      "metadata": {
        "colab": {
          "base_uri": "https://localhost:8080/",
          "height": 423
        },
        "id": "QmhdtbG3EXii",
        "outputId": "6bab7a40-277d-4c95-eaae-d5fa18e257fb"
      },
      "execution_count": null,
      "outputs": [
        {
          "output_type": "execute_result",
          "data": {
            "text/plain": [
              "      Latitude  Longitude\n",
              "0    24.590881  79.921318\n",
              "1    24.590881  79.922213\n",
              "2    24.590882  79.923109\n",
              "3    24.590882  79.924004\n",
              "4    24.596000  79.924004\n",
              "..         ...        ...\n",
              "773  24.616769  80.021622\n",
              "774  24.621936  80.021622\n",
              "775  24.616772  80.022518\n",
              "776  24.621940  80.022518\n",
              "777  24.616774  80.023413\n",
              "\n",
              "[778 rows x 2 columns]"
            ],
            "text/html": [
              "\n",
              "  <div id=\"df-cf3eeff6-0c19-4cdb-92e2-95a4085cdd1a\" class=\"colab-df-container\">\n",
              "    <div>\n",
              "<style scoped>\n",
              "    .dataframe tbody tr th:only-of-type {\n",
              "        vertical-align: middle;\n",
              "    }\n",
              "\n",
              "    .dataframe tbody tr th {\n",
              "        vertical-align: top;\n",
              "    }\n",
              "\n",
              "    .dataframe thead th {\n",
              "        text-align: right;\n",
              "    }\n",
              "</style>\n",
              "<table border=\"1\" class=\"dataframe\">\n",
              "  <thead>\n",
              "    <tr style=\"text-align: right;\">\n",
              "      <th></th>\n",
              "      <th>Latitude</th>\n",
              "      <th>Longitude</th>\n",
              "    </tr>\n",
              "  </thead>\n",
              "  <tbody>\n",
              "    <tr>\n",
              "      <th>0</th>\n",
              "      <td>24.590881</td>\n",
              "      <td>79.921318</td>\n",
              "    </tr>\n",
              "    <tr>\n",
              "      <th>1</th>\n",
              "      <td>24.590881</td>\n",
              "      <td>79.922213</td>\n",
              "    </tr>\n",
              "    <tr>\n",
              "      <th>2</th>\n",
              "      <td>24.590882</td>\n",
              "      <td>79.923109</td>\n",
              "    </tr>\n",
              "    <tr>\n",
              "      <th>3</th>\n",
              "      <td>24.590882</td>\n",
              "      <td>79.924004</td>\n",
              "    </tr>\n",
              "    <tr>\n",
              "      <th>4</th>\n",
              "      <td>24.596000</td>\n",
              "      <td>79.924004</td>\n",
              "    </tr>\n",
              "    <tr>\n",
              "      <th>...</th>\n",
              "      <td>...</td>\n",
              "      <td>...</td>\n",
              "    </tr>\n",
              "    <tr>\n",
              "      <th>773</th>\n",
              "      <td>24.616769</td>\n",
              "      <td>80.021622</td>\n",
              "    </tr>\n",
              "    <tr>\n",
              "      <th>774</th>\n",
              "      <td>24.621936</td>\n",
              "      <td>80.021622</td>\n",
              "    </tr>\n",
              "    <tr>\n",
              "      <th>775</th>\n",
              "      <td>24.616772</td>\n",
              "      <td>80.022518</td>\n",
              "    </tr>\n",
              "    <tr>\n",
              "      <th>776</th>\n",
              "      <td>24.621940</td>\n",
              "      <td>80.022518</td>\n",
              "    </tr>\n",
              "    <tr>\n",
              "      <th>777</th>\n",
              "      <td>24.616774</td>\n",
              "      <td>80.023413</td>\n",
              "    </tr>\n",
              "  </tbody>\n",
              "</table>\n",
              "<p>778 rows × 2 columns</p>\n",
              "</div>\n",
              "    <div class=\"colab-df-buttons\">\n",
              "\n",
              "  <div class=\"colab-df-container\">\n",
              "    <button class=\"colab-df-convert\" onclick=\"convertToInteractive('df-cf3eeff6-0c19-4cdb-92e2-95a4085cdd1a')\"\n",
              "            title=\"Convert this dataframe to an interactive table.\"\n",
              "            style=\"display:none;\">\n",
              "\n",
              "  <svg xmlns=\"http://www.w3.org/2000/svg\" height=\"24px\" viewBox=\"0 -960 960 960\">\n",
              "    <path d=\"M120-120v-720h720v720H120Zm60-500h600v-160H180v160Zm220 220h160v-160H400v160Zm0 220h160v-160H400v160ZM180-400h160v-160H180v160Zm440 0h160v-160H620v160ZM180-180h160v-160H180v160Zm440 0h160v-160H620v160Z\"/>\n",
              "  </svg>\n",
              "    </button>\n",
              "\n",
              "  <style>\n",
              "    .colab-df-container {\n",
              "      display:flex;\n",
              "      gap: 12px;\n",
              "    }\n",
              "\n",
              "    .colab-df-convert {\n",
              "      background-color: #E8F0FE;\n",
              "      border: none;\n",
              "      border-radius: 50%;\n",
              "      cursor: pointer;\n",
              "      display: none;\n",
              "      fill: #1967D2;\n",
              "      height: 32px;\n",
              "      padding: 0 0 0 0;\n",
              "      width: 32px;\n",
              "    }\n",
              "\n",
              "    .colab-df-convert:hover {\n",
              "      background-color: #E2EBFA;\n",
              "      box-shadow: 0px 1px 2px rgba(60, 64, 67, 0.3), 0px 1px 3px 1px rgba(60, 64, 67, 0.15);\n",
              "      fill: #174EA6;\n",
              "    }\n",
              "\n",
              "    .colab-df-buttons div {\n",
              "      margin-bottom: 4px;\n",
              "    }\n",
              "\n",
              "    [theme=dark] .colab-df-convert {\n",
              "      background-color: #3B4455;\n",
              "      fill: #D2E3FC;\n",
              "    }\n",
              "\n",
              "    [theme=dark] .colab-df-convert:hover {\n",
              "      background-color: #434B5C;\n",
              "      box-shadow: 0px 1px 3px 1px rgba(0, 0, 0, 0.15);\n",
              "      filter: drop-shadow(0px 1px 2px rgba(0, 0, 0, 0.3));\n",
              "      fill: #FFFFFF;\n",
              "    }\n",
              "  </style>\n",
              "\n",
              "    <script>\n",
              "      const buttonEl =\n",
              "        document.querySelector('#df-cf3eeff6-0c19-4cdb-92e2-95a4085cdd1a button.colab-df-convert');\n",
              "      buttonEl.style.display =\n",
              "        google.colab.kernel.accessAllowed ? 'block' : 'none';\n",
              "\n",
              "      async function convertToInteractive(key) {\n",
              "        const element = document.querySelector('#df-cf3eeff6-0c19-4cdb-92e2-95a4085cdd1a');\n",
              "        const dataTable =\n",
              "          await google.colab.kernel.invokeFunction('convertToInteractive',\n",
              "                                                    [key], {});\n",
              "        if (!dataTable) return;\n",
              "\n",
              "        const docLinkHtml = 'Like what you see? Visit the ' +\n",
              "          '<a target=\"_blank\" href=https://colab.research.google.com/notebooks/data_table.ipynb>data table notebook</a>'\n",
              "          + ' to learn more about interactive tables.';\n",
              "        element.innerHTML = '';\n",
              "        dataTable['output_type'] = 'display_data';\n",
              "        await google.colab.output.renderOutput(dataTable, element);\n",
              "        const docLink = document.createElement('div');\n",
              "        docLink.innerHTML = docLinkHtml;\n",
              "        element.appendChild(docLink);\n",
              "      }\n",
              "    </script>\n",
              "  </div>\n",
              "\n",
              "\n",
              "<div id=\"df-a1e216fc-7fc5-4ad5-80a0-fef2c4a9944d\">\n",
              "  <button class=\"colab-df-quickchart\" onclick=\"quickchart('df-a1e216fc-7fc5-4ad5-80a0-fef2c4a9944d')\"\n",
              "            title=\"Suggest charts\"\n",
              "            style=\"display:none;\">\n",
              "\n",
              "<svg xmlns=\"http://www.w3.org/2000/svg\" height=\"24px\"viewBox=\"0 0 24 24\"\n",
              "     width=\"24px\">\n",
              "    <g>\n",
              "        <path d=\"M19 3H5c-1.1 0-2 .9-2 2v14c0 1.1.9 2 2 2h14c1.1 0 2-.9 2-2V5c0-1.1-.9-2-2-2zM9 17H7v-7h2v7zm4 0h-2V7h2v10zm4 0h-2v-4h2v4z\"/>\n",
              "    </g>\n",
              "</svg>\n",
              "  </button>\n",
              "\n",
              "<style>\n",
              "  .colab-df-quickchart {\n",
              "      --bg-color: #E8F0FE;\n",
              "      --fill-color: #1967D2;\n",
              "      --hover-bg-color: #E2EBFA;\n",
              "      --hover-fill-color: #174EA6;\n",
              "      --disabled-fill-color: #AAA;\n",
              "      --disabled-bg-color: #DDD;\n",
              "  }\n",
              "\n",
              "  [theme=dark] .colab-df-quickchart {\n",
              "      --bg-color: #3B4455;\n",
              "      --fill-color: #D2E3FC;\n",
              "      --hover-bg-color: #434B5C;\n",
              "      --hover-fill-color: #FFFFFF;\n",
              "      --disabled-bg-color: #3B4455;\n",
              "      --disabled-fill-color: #666;\n",
              "  }\n",
              "\n",
              "  .colab-df-quickchart {\n",
              "    background-color: var(--bg-color);\n",
              "    border: none;\n",
              "    border-radius: 50%;\n",
              "    cursor: pointer;\n",
              "    display: none;\n",
              "    fill: var(--fill-color);\n",
              "    height: 32px;\n",
              "    padding: 0;\n",
              "    width: 32px;\n",
              "  }\n",
              "\n",
              "  .colab-df-quickchart:hover {\n",
              "    background-color: var(--hover-bg-color);\n",
              "    box-shadow: 0 1px 2px rgba(60, 64, 67, 0.3), 0 1px 3px 1px rgba(60, 64, 67, 0.15);\n",
              "    fill: var(--button-hover-fill-color);\n",
              "  }\n",
              "\n",
              "  .colab-df-quickchart-complete:disabled,\n",
              "  .colab-df-quickchart-complete:disabled:hover {\n",
              "    background-color: var(--disabled-bg-color);\n",
              "    fill: var(--disabled-fill-color);\n",
              "    box-shadow: none;\n",
              "  }\n",
              "\n",
              "  .colab-df-spinner {\n",
              "    border: 2px solid var(--fill-color);\n",
              "    border-color: transparent;\n",
              "    border-bottom-color: var(--fill-color);\n",
              "    animation:\n",
              "      spin 1s steps(1) infinite;\n",
              "  }\n",
              "\n",
              "  @keyframes spin {\n",
              "    0% {\n",
              "      border-color: transparent;\n",
              "      border-bottom-color: var(--fill-color);\n",
              "      border-left-color: var(--fill-color);\n",
              "    }\n",
              "    20% {\n",
              "      border-color: transparent;\n",
              "      border-left-color: var(--fill-color);\n",
              "      border-top-color: var(--fill-color);\n",
              "    }\n",
              "    30% {\n",
              "      border-color: transparent;\n",
              "      border-left-color: var(--fill-color);\n",
              "      border-top-color: var(--fill-color);\n",
              "      border-right-color: var(--fill-color);\n",
              "    }\n",
              "    40% {\n",
              "      border-color: transparent;\n",
              "      border-right-color: var(--fill-color);\n",
              "      border-top-color: var(--fill-color);\n",
              "    }\n",
              "    60% {\n",
              "      border-color: transparent;\n",
              "      border-right-color: var(--fill-color);\n",
              "    }\n",
              "    80% {\n",
              "      border-color: transparent;\n",
              "      border-right-color: var(--fill-color);\n",
              "      border-bottom-color: var(--fill-color);\n",
              "    }\n",
              "    90% {\n",
              "      border-color: transparent;\n",
              "      border-bottom-color: var(--fill-color);\n",
              "    }\n",
              "  }\n",
              "</style>\n",
              "\n",
              "  <script>\n",
              "    async function quickchart(key) {\n",
              "      const quickchartButtonEl =\n",
              "        document.querySelector('#' + key + ' button');\n",
              "      quickchartButtonEl.disabled = true;  // To prevent multiple clicks.\n",
              "      quickchartButtonEl.classList.add('colab-df-spinner');\n",
              "      try {\n",
              "        const charts = await google.colab.kernel.invokeFunction(\n",
              "            'suggestCharts', [key], {});\n",
              "      } catch (error) {\n",
              "        console.error('Error during call to suggestCharts:', error);\n",
              "      }\n",
              "      quickchartButtonEl.classList.remove('colab-df-spinner');\n",
              "      quickchartButtonEl.classList.add('colab-df-quickchart-complete');\n",
              "    }\n",
              "    (() => {\n",
              "      let quickchartButtonEl =\n",
              "        document.querySelector('#df-a1e216fc-7fc5-4ad5-80a0-fef2c4a9944d button');\n",
              "      quickchartButtonEl.style.display =\n",
              "        google.colab.kernel.accessAllowed ? 'block' : 'none';\n",
              "    })();\n",
              "  </script>\n",
              "</div>\n",
              "    </div>\n",
              "  </div>\n"
            ],
            "application/vnd.google.colaboratory.intrinsic+json": {
              "type": "dataframe",
              "variable_name": "df",
              "summary": "{\n  \"name\": \"df\",\n  \"rows\": 778,\n  \"fields\": [\n    {\n      \"column\": \"Latitude\",\n      \"properties\": {\n        \"dtype\": \"number\",\n        \"std\": 0.014904738050020011,\n        \"min\": 24.590880897911624,\n        \"max\": 24.647701982663467,\n        \"num_unique_values\": 778,\n        \"samples\": [\n          24.606388279694844,\n          24.61669749681953,\n          24.64760323230006\n        ],\n        \"semantic_type\": \"\",\n        \"description\": \"\"\n      }\n    },\n    {\n      \"column\": \"Longitude\",\n      \"properties\": {\n        \"dtype\": \"number\",\n        \"std\": 0.024728965030537734,\n        \"min\": 79.92131753868131,\n        \"max\": 80.02341341136966,\n        \"num_unique_values\": 115,\n        \"samples\": [\n          79.9938594077615,\n          79.92489986069411,\n          79.95714072374881\n        ],\n        \"semantic_type\": \"\",\n        \"description\": \"\"\n      }\n    }\n  ]\n}"
            }
          },
          "metadata": {},
          "execution_count": 23
        }
      ]
    },
    {
      "cell_type": "code",
      "source": [
        "polygon"
      ],
      "metadata": {
        "colab": {
          "base_uri": "https://localhost:8080/",
          "height": 122
        },
        "id": "cmrgcGLoBVL9",
        "outputId": "ce4679d0-821f-4d50-ce8d-85551deed619"
      },
      "execution_count": null,
      "outputs": [
        {
          "output_type": "execute_result",
          "data": {
            "text/plain": [
              "<POLYGON ((24.613 79.941, 24.617 79.95, 24.612 79.941, 24.607 79.933, 24.601...>"
            ],
            "image/svg+xml": "<svg xmlns=\"http://www.w3.org/2000/svg\" xmlns:xlink=\"http://www.w3.org/1999/xlink\" width=\"100.0\" height=\"100.0\" viewBox=\"24.58160555106009 79.91626314634304 0.0745880495153024 0.11228791625607926\" preserveAspectRatio=\"xMinYMin meet\"><g transform=\"matrix(1,0,0,-1,0,159.94481420894215)\"><path fill-rule=\"evenodd\" fill=\"#ff3333\" stroke=\"#555555\" stroke-width=\"0.002245758325121585\" opacity=\"0.6\" d=\"M 24.613149333805474,79.94064280142537 L 24.616585992854144,79.94991726200432 L 24.612216089309918,79.94133064867492 L 24.607228943711352,79.9334415497031 L 24.60131139733483,79.92761672921684 L 24.591655781843432,79.92042195805622 L 24.587299304823453,79.92178768981881 L 24.58576436277328,79.92791946493091 L 24.586381164759292,79.94022706390288 L 24.588248167477843,79.94807089028068 L 24.587628286896656,79.94738280901824 L 24.588864604296962,79.95662606790627 L 24.59227905016377,79.96382008850203 L 24.59600792543035,79.9669020018246 L 24.59693461968274,79.98161047168524 L 24.601285711509487,79.99261919911497 L 24.600036164603583,79.99666187086699 L 24.602206137061415,80.00795204970156 L 24.60220551851527,80.00897837892957 L 24.604378142850607,80.01513798953346 L 24.603130357957237,80.02129571553036 L 24.60344082430387,80.02198023870692 L 24.60748476357962,80.01924582085627 L 24.610592334219916,80.02198585337489 L 24.614944579481193,80.02370190445916 L 24.61991956507346,80.02439225088594 L 24.626172869319458,80.02109251986653 L 24.63647935781835,80.00952122340946 L 24.63773249331087,80.00542030955219 L 24.643322656810316,80.0091641734615 L 24.64611463012587,80.01188943429752 L 24.65108746230968,80.00810509530949 L 24.652034788862203,80.00229881543169 L 24.649268878188455,79.9917222293751 L 24.64493823977292,79.98559124693645 L 24.641527124342648,79.98184114549959 L 24.639403414224603,79.97196610986329 L 24.634432860124583,79.95652951466646 L 24.629970355168926,79.95127085050233 L 24.623754749787306,79.94957512077103 L 24.616586124513557,79.95026054402153 L 24.613149333805474,79.94064280142537 z\" /></g></svg>"
          },
          "metadata": {},
          "execution_count": 7
        }
      ]
    },
    {
      "cell_type": "code",
      "source": [
        "min_x, min_y, max_x, max_y = polygon.bounds"
      ],
      "metadata": {
        "id": "qfi00TSxBW4a"
      },
      "execution_count": null,
      "outputs": []
    },
    {
      "cell_type": "code",
      "source": [
        "min_x"
      ],
      "metadata": {
        "colab": {
          "base_uri": "https://localhost:8080/"
        },
        "id": "n1PHfjFBBy4F",
        "outputId": "83b2b910-1dc2-48f6-fdcc-28a4881293b3"
      },
      "execution_count": null,
      "outputs": [
        {
          "output_type": "execute_result",
          "data": {
            "text/plain": [
              "24.58576436277328"
            ]
          },
          "metadata": {},
          "execution_count": 9
        }
      ]
    },
    {
      "cell_type": "code",
      "source": [
        "min_y"
      ],
      "metadata": {
        "colab": {
          "base_uri": "https://localhost:8080/"
        },
        "id": "dc8QdHENB0uw",
        "outputId": "166b5f6e-6aa3-481f-fcb3-2a4e343fdea7"
      },
      "execution_count": null,
      "outputs": [
        {
          "output_type": "execute_result",
          "data": {
            "text/plain": [
              "79.92042195805622"
            ]
          },
          "metadata": {},
          "execution_count": 10
        }
      ]
    },
    {
      "cell_type": "code",
      "source": [
        "max_x"
      ],
      "metadata": {
        "colab": {
          "base_uri": "https://localhost:8080/"
        },
        "id": "VYyzpEZJB2uB",
        "outputId": "a6c3d7e6-7b9d-408f-ab5f-70b7bcef74c9"
      },
      "execution_count": null,
      "outputs": [
        {
          "output_type": "execute_result",
          "data": {
            "text/plain": [
              "24.652034788862203"
            ]
          },
          "metadata": {},
          "execution_count": 11
        }
      ]
    },
    {
      "cell_type": "code",
      "source": [
        "max_y"
      ],
      "metadata": {
        "colab": {
          "base_uri": "https://localhost:8080/"
        },
        "id": "eKZjz_F4B5G1",
        "outputId": "727820aa-cc77-49ab-f7ed-deb8335bbd4f"
      },
      "execution_count": null,
      "outputs": [
        {
          "output_type": "execute_result",
          "data": {
            "text/plain": [
              "80.02439225088594"
            ]
          },
          "metadata": {},
          "execution_count": 12
        }
      ]
    },
    {
      "cell_type": "code",
      "source": [
        "# Load the image\n",
        "image_path = '/content/panna_lat_lon_pts.jpg'\n",
        "image = cv2.imread(image_path)\n",
        "\n",
        "# Convert the image to HSV color space\n",
        "hsv = cv2.cvtColor(image, cv2.COLOR_BGR2HSV)\n",
        "\n",
        "# Define the range for red color in HSV\n",
        "lower_red1 = np.array([0, 100, 100])\n",
        "upper_red1 = np.array([10, 255, 255])\n",
        "lower_red2 = np.array([160, 100, 100])\n",
        "upper_red2 = np.array([180, 255, 255])\n",
        "\n",
        "# Create masks for red color\n",
        "mask1 = cv2.inRange(hsv, lower_red1, upper_red1)\n",
        "mask2 = cv2.inRange(hsv, lower_red2, upper_red2)\n",
        "red_mask = cv2.bitwise_or(mask1, mask2)\n",
        "\n",
        "# Find contours in the mask\n",
        "contours, _ = cv2.findContours(red_mask, cv2.RETR_EXTERNAL, cv2.CHAIN_APPROX_SIMPLE)\n",
        "\n",
        "# Filter contours by area to ignore small regions\n",
        "min_area = 10  # You can adjust this value based on your specific needs\n",
        "large_contours = [cnt for cnt in contours if cv2.contourArea(cnt) > min_area]\n",
        "\n",
        "# Count the number of large red points\n",
        "num_large_red_points = len(large_contours)\n",
        "\n",
        "print(f\"Number of large red points: {num_large_red_points}\")"
      ],
      "metadata": {
        "colab": {
          "base_uri": "https://localhost:8080/"
        },
        "id": "WxqtMqImkF4Q",
        "outputId": "4643dc1b-c1db-4d3c-fdc4-4c40b5d82b4d"
      },
      "execution_count": null,
      "outputs": [
        {
          "output_type": "stream",
          "name": "stdout",
          "text": [
            "Number of large red points: 555\n"
          ]
        }
      ]
    },
    {
      "cell_type": "code",
      "source": [],
      "metadata": {
        "id": "damuvCjHkzTx"
      },
      "execution_count": null,
      "outputs": []
    }
  ]
}